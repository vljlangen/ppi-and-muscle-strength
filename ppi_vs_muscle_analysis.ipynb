{
 "cells": [
  {
   "cell_type": "markdown",
   "metadata": {},
   "source": [
    "## Import libraries"
   ]
  },
  {
   "cell_type": "code",
   "execution_count": 157,
   "metadata": {},
   "outputs": [],
   "source": [
    "import pandas as pd\n",
    "import sys\n",
    "from scipy import stats\n",
    "import seaborn as sns\n",
    "import matplotlib.pyplot as plt\n",
    "import matplotlib\n",
    "from matplotlib import font_manager\n",
    "import matplotlib.font_manager as fm\n",
    "from plotnine import *\n",
    "import statsmodels.api as sm\n",
    "import statsmodels.formula.api as smf\n",
    "import numpy as np\n",
    "from scipy.stats import chi2_contingency\n",
    "from statsmodels.stats.proportion import proportion_confint\n",
    "from tableone import TableOne, load_dataset\n"
   ]
  },
  {
   "cell_type": "markdown",
   "metadata": {},
   "source": [
    "## Display Python and Pandas version numbers"
   ]
  },
  {
   "cell_type": "code",
   "execution_count": null,
   "metadata": {},
   "outputs": [],
   "source": [
    "\n",
    "print('Python version:', sys.version)\n",
    "print('pandas version:', pd.__version__)"
   ]
  },
  {
   "cell_type": "markdown",
   "metadata": {},
   "source": [
    "## Import data and display its structure"
   ]
  },
  {
   "cell_type": "code",
   "execution_count": null,
   "metadata": {},
   "outputs": [],
   "source": [
    "# Read the pickled data\n",
    "\n",
    "df = pd.read_pickle(\"../data/muscle_data/clean_data.pkl\")\n",
    "\n",
    "pd.set_option(\"display.max_columns\", None)\n",
    "\n",
    "# Check the data\n",
    "print(df.head())\n",
    "print(df.shape)\n",
    "df.columns"
   ]
  },
  {
   "cell_type": "markdown",
   "metadata": {},
   "source": [
    "## Create Table 1"
   ]
  },
  {
   "cell_type": "code",
   "execution_count": null,
   "metadata": {},
   "outputs": [],
   "source": [
    "df.columns"
   ]
  },
  {
   "cell_type": "code",
   "execution_count": 161,
   "metadata": {},
   "outputs": [],
   "source": [
    "columns = ['age', 'sex', 'bmi', 'ppi_status', 'grip_strength_mean',\n",
    "           'walking_speed_4m', 'armchair_push_pull_success']\n",
    "\n",
    "categorical = ['sex', 'ppi_status', 'armchair_push_pull_success']\n",
    "\n",
    "continuous = ['age', 'bmi', 'grip_strength_mean', 'walking_speed_4m']\n",
    "\n",
    "groupby = 'ppi_status'\n",
    "\n",
    "rename={'age': 'Age'}\n",
    "\n"
   ]
  },
  {
   "cell_type": "code",
   "execution_count": null,
   "metadata": {},
   "outputs": [],
   "source": [
    "mytable = TableOne(df, columns=columns,\n",
    "                  categorical=categorical,\n",
    "                  continuous=continuous,\n",
    "                  groupby=groupby,\n",
    "                  rename=rename,\n",
    "                  pval_adjust=None,\n",
    "                  pval=True)\n",
    "\n",
    "mytable\n"
   ]
  },
  {
   "cell_type": "code",
   "execution_count": null,
   "metadata": {},
   "outputs": [],
   "source": [
    "print(mytable.tabulate(tablefmt = \"none\"))\n",
    "\n",
    "mytable.to_excel('tables/table1.xlsx')"
   ]
  },
  {
   "cell_type": "markdown",
   "metadata": {},
   "source": [
    "## Prepare separate datasets according to PPI status for testing difference"
   ]
  },
  {
   "cell_type": "code",
   "execution_count": 164,
   "metadata": {},
   "outputs": [],
   "source": [
    "# Prepare data for testing with mean grip strength\n",
    "ppi_grip_mean = df[df['ppi_status'] == 'PPI User']['grip_strength_mean']\n",
    "no_ppi_grip_mean = df[df['ppi_status'] == 'No PPI']['grip_strength_mean']\n",
    " \n",
    "\n",
    "# Create subsets for walking speed analysis\n",
    "walking_speed_ppi = df[df['ppi_status'] == 'PPI User']['walking_speed_4m']\n",
    "walking_speed_no_ppi = df[df['ppi_status'] == 'No PPI']['walking_speed_4m']\n"
   ]
  },
  {
   "cell_type": "markdown",
   "metadata": {},
   "source": [
    "## Run t-test for mean grip strength"
   ]
  },
  {
   "cell_type": "code",
   "execution_count": null,
   "metadata": {},
   "outputs": [],
   "source": [
    "# Statistical tests with mean grip strength\n",
    "# t-test\n",
    "t_stat, p_value = stats.ttest_ind(ppi_grip_mean, no_ppi_grip_mean)\n",
    "print(\"Independent t-test results:\")\n",
    "print(f\"t-statistic: {t_stat:.4f}\")\n",
    "print(f\"p-value: {p_value:.4f}\")\n",
    "\n",
    "mean_grip_t_test_p_value = p_value\n"
   ]
  },
  {
   "cell_type": "markdown",
   "metadata": {},
   "source": [
    "## Run t-test for walking speed"
   ]
  },
  {
   "cell_type": "code",
   "execution_count": null,
   "metadata": {},
   "outputs": [],
   "source": [
    "# Statistical tests with mean grip strength\n",
    "# t-test\n",
    "t_stat, p_value = stats.ttest_ind(walking_speed_ppi, walking_speed_no_ppi, equal_var=False)\n",
    "\n",
    "print(\"Independent t-test results:\")\n",
    "print(f\"t-statistic: {t_stat:.4f}\")\n",
    "print(f\"p-value: {p_value:.4f}\")\n",
    "\n",
    "walking_speed_t_test_p_value = p_value"
   ]
  },
  {
   "cell_type": "markdown",
   "metadata": {},
   "source": [
    "## Test whether the desired font exists"
   ]
  },
  {
   "cell_type": "code",
   "execution_count": null,
   "metadata": {},
   "outputs": [],
   "source": [
    "# First, let's check if Rosario is already available\n",
    "available_fonts = [f.name for f in matplotlib.font_manager.fontManager.ttflist]\n",
    "print(\"Fonts with 'Rosario' in name:\")\n",
    "print([f for f in available_fonts if 'Rosario' in f])"
   ]
  },
  {
   "cell_type": "markdown",
   "metadata": {},
   "source": [
    "## Create plots with the Plotnine package"
   ]
  },
  {
   "cell_type": "code",
   "execution_count": null,
   "metadata": {},
   "outputs": [],
   "source": [
    "figure1 = (ggplot(df, aes(x='ppi_status', y='grip_strength_mean', fill='ppi_status')) +\n",
    " scale_fill_brewer(palette=1) +\n",
    " geom_boxplot() +\n",
    " theme_classic(base_size = 26) +  # Classic theme\n",
    " labs(title='Grip Strength',\n",
    "      x='PPI Status',\n",
    "      y='Grip Strength (kg)') +\n",
    "\n",
    " # Add horizontal line\n",
    " annotate('segment', x=1.3, xend=1.7, y=42, yend=42, color='black') +\n",
    "\n",
    " # Add left vertical whisker\n",
    " annotate('segment', x=1.3, xend=1.3, y=40, yend=42, color='black') +\n",
    " # Add right vertical whisker\n",
    " annotate('segment', x=1.7, xend=1.7, y=40, yend=42, color='black') +\n",
    "\n",
    " annotate('text', \n",
    "          x=1.5,\n",
    "          y=45, \n",
    "          label=f'P = {mean_grip_t_test_p_value:.2f}',\n",
    "          size=18,\n",
    "          family=\"Rosario\") +\n",
    "\n",
    " theme(figure_size=(10, 6),\n",
    "       legend_position='none',\n",
    "       legend_title=element_blank(),\n",
    "       text=element_text(family='Rosario'),\n",
    "       axis_text=element_text(family='Rosario'),\n",
    "       title=element_text(margin={\"t\": 30, \"b\": 30}, family='Rosario'),\n",
    "       axis_title_y=element_text(margin={\"r\": 10}),\n",
    "       axis_title_x=element_text(margin={\"t\": 10}))  # Increase right margin of y-axis title\n",
    "\n",
    ")\n",
    "\n",
    "# Export the plot\n",
    "figure1.save(\"figures/Fig1.pdf\")\n",
    "figure1.save(\"figures/Fig1.tiff\", dpi=600, pil_kwargs={\"compression\": \"tiff_lzw\"})\n"
   ]
  },
  {
   "cell_type": "code",
   "execution_count": null,
   "metadata": {},
   "outputs": [],
   "source": [
    "# Display the plot\n",
    "figure1"
   ]
  },
  {
   "cell_type": "code",
   "execution_count": null,
   "metadata": {},
   "outputs": [],
   "source": [
    "figure2 = (ggplot(df, aes(x='ppi_status', y='walking_speed_4m', fill='ppi_status')) +\n",
    " scale_fill_brewer(palette=1) +\n",
    " geom_boxplot() +\n",
    " theme_classic(base_size = 26) +  # Classic theme\n",
    " labs(title='4-Meter Walking Time',\n",
    "      x='PPI Status',\n",
    "      y='4-Meter Walking Time (s)') +\n",
    "\n",
    " # Add horizontal line\n",
    " annotate('segment', x=1.3, xend=1.7, y=5.5, yend=5.5, color='black') +\n",
    "\n",
    " # Add left vertical whisker\n",
    " annotate('segment', x=1.3, xend=1.3, y=5.5, yend=5, color='black') +\n",
    " # Add right vertical whisker\n",
    " annotate('segment', x=1.7, xend=1.7, y=5.5, yend=5, color='black') +\n",
    "\n",
    " annotate('text', \n",
    "          x=1.5,\n",
    "          y=6.5, \n",
    "          label=f'P = {walking_speed_t_test_p_value:.2f}',\n",
    "          size=18,\n",
    "          family=\"Rosario\") +\n",
    "\n",
    " theme(figure_size=(10, 6),\n",
    "       legend_position='none',\n",
    "       legend_title=element_blank(),\n",
    "       text=element_text(family='Rosario'),\n",
    "       axis_text=element_text(family='Rosario'),\n",
    "       title=element_text(margin={\"t\": 30, \"b\": 30}, family='Rosario'),\n",
    "       axis_title_y=element_text(margin={\"r\": 10}),\n",
    "       axis_title_x=element_text(margin={\"t\": 10}))  # Increase right margin of y-axis title\n",
    ")\n",
    "\n",
    "# Export the plot\n",
    "figure2.save(\"figures/Fig2.pdf\")\n",
    "figure2.save(\"figures/Fig2.tiff\", dpi=600, pil_kwargs={\"compression\": \"tiff_lzw\"})"
   ]
  },
  {
   "cell_type": "code",
   "execution_count": null,
   "metadata": {},
   "outputs": [],
   "source": [
    "# Display the plot\n",
    "figure2"
   ]
  },
  {
   "cell_type": "code",
   "execution_count": 172,
   "metadata": {},
   "outputs": [],
   "source": [
    "# Calculate percentages and CIs for each group\n",
    "def calc_stats(df, group_col, success_col):\n",
    "    stats_dict = {}\n",
    "    for group in df[group_col].unique():\n",
    "        group_data = df[df[group_col] == group]\n",
    "        success_count = (group_data[success_col] == \"Success\").sum()\n",
    "        total_count = len(group_data)\n",
    "        pct = (success_count / total_count) * 100\n",
    "        \n",
    "        # Calculate Wilson confidence intervals\n",
    "        ci_lower, ci_upper = proportion_confint(success_count, total_count, alpha=0.05, method='wilson')\n",
    "        ci_lower *= 100  # Convert to percentage\n",
    "        ci_upper *= 100  # Convert to percentage\n",
    "        \n",
    "        stats_dict[group] = {'pct': pct, 'ci_lower': ci_lower, 'ci_upper': ci_upper}\n",
    "    \n",
    "    # Create DataFrame for plotting\n",
    "    plot_data = pd.DataFrame({\n",
    "        'ppi_status': list(stats_dict.keys()),\n",
    "        'pct': [d['pct'] for d in stats_dict.values()],\n",
    "        'ci_lower': [d['ci_lower'] for d in stats_dict.values()],\n",
    "        'ci_upper': [d['ci_upper'] for d in stats_dict.values()]\n",
    "    })\n",
    "    \n",
    "    return plot_data\n",
    "\n",
    "# Calculate chi-square test\n",
    "def calc_chi_square(df, group_col, success_col):\n",
    "    contingency = pd.crosstab(df[group_col], df[success_col])\n",
    "    chi2, p_value, _, _ = chi2_contingency(contingency)\n",
    "    return p_value\n",
    "\n",
    "# Prepare data for plotting\n",
    "plot_data = calc_stats(df, 'ppi_status', 'armchair_push_pull_success')\n",
    "p_value = calc_chi_square(df, 'ppi_status', 'armchair_push_pull_success')\n",
    "\n",
    "armchair_push_pull_success_p_value = p_value"
   ]
  },
  {
   "cell_type": "code",
   "execution_count": null,
   "metadata": {},
   "outputs": [],
   "source": [
    "figure3 = (ggplot(plot_data, aes(x='ppi_status', y='pct', fill='ppi_status')) +\n",
    " geom_bar(stat=\"identity\", position=\"dodge\", width=0.6, color=\"black\") +\n",
    " scale_y_continuous(limits=(0, 100), expand=(0,0)) +\n",
    " labs(x=\"PPI Status\", \n",
    "      y=\"Percentage (%)\",\n",
    "      title=\"Proportion of Successful Armchair Push-Pull Test\") +\n",
    " theme_classic(base_size=16, base_family=\"Rosario\") +  # Added base_family=\"Rosario\"\n",
    " theme(\n",
    "     plot_title=element_text(ha=\"center\", weight=\"bold\", margin={\"t\": 20, \"b\": 20}, family=\"Rosario\"),\n",
    "     axis_text=element_text(family=\"Rosario\"),\n",
    "     axis_title=element_text(weight=\"bold\", family=\"Rosario\"),\n",
    "     axis_title_x=element_text(margin={\"t\": 20}, family=\"Rosario\"),\n",
    "     axis_title_y=element_text(margin={\"r\": 15}, family=\"Rosario\"),\n",
    "     axis_text_x=element_text(margin={\"t\": 10}, family=\"Rosario\"),\n",
    "     axis_text_y=element_text(margin={\"r\": 5}, family=\"Rosario\"),\n",
    "     legend_position=\"none\"\n",
    " ) +\n",
    " geom_errorbar(aes(ymin='ci_lower', ymax='ci_upper'), \n",
    "               width=0.1, color=\"black\", alpha=0.9, size=0.5) +\n",
    "\n",
    " # Add horizontal line\n",
    " annotate('segment', x=1, xend=2, y=99, yend=99, color='black') +\n",
    "\n",
    " # Add left vertical whisker\n",
    " annotate('segment', x=1.0015, xend=1.0015, y=98, yend=99, color='black') +\n",
    " # Add right vertical whisker\n",
    " annotate('segment', x=1.9983, xend=1.9983, y=98, yend=99, color='black') +\n",
    "\n",
    " annotate('text', \n",
    "          x=1.5,\n",
    "          y=93, \n",
    "          label=f'P = {armchair_push_pull_success_p_value:.2f}',\n",
    "          size=12,\n",
    "          family=\"Rosario\") +  # Added family=\"Rosario\" here too\n",
    " #scale_fill_manual(values=['#D8C3BA', '#BB9B90'])\n",
    " scale_fill_brewer(palette=1)\n",
    ")\n",
    "\n",
    "\n",
    "# Export the plot\n",
    "figure3.save(\"figures/Fig3.pdf\")\n",
    "figure3.save(\"figures/Fig3.tiff\", dpi=600, pil_kwargs={\"compression\": \"tiff_lzw\"})"
   ]
  },
  {
   "cell_type": "code",
   "execution_count": null,
   "metadata": {},
   "outputs": [],
   "source": [
    "# Display the plot\n",
    "figure3\n"
   ]
  },
  {
   "cell_type": "markdown",
   "metadata": {},
   "source": [
    "## Grip strength, simple linear regression model"
   ]
  },
  {
   "cell_type": "code",
   "execution_count": null,
   "metadata": {},
   "outputs": [],
   "source": [
    "\n",
    "model = smf.ols(\"grip_strength_mean ~ C(ppi_status)\", data=df).fit()\n",
    "\n",
    "print(model.summary())\n"
   ]
  },
  {
   "cell_type": "markdown",
   "metadata": {
    "vscode": {
     "languageId": "xml"
    }
   },
   "source": [
    "## Grip strength, multiple linear regression model"
   ]
  },
  {
   "cell_type": "code",
   "execution_count": null,
   "metadata": {},
   "outputs": [],
   "source": [
    "\n",
    "\n",
    "model = smf.ols(\"grip_strength_mean ~ C(ppi_status) + C(sex) + age + bmi\", data=df).fit()\n",
    "\n",
    "print(model.summary())\n",
    "\n"
   ]
  },
  {
   "cell_type": "markdown",
   "metadata": {},
   "source": []
  },
  {
   "cell_type": "markdown",
   "metadata": {},
   "source": [
    "## 4-minute walking test, simple linear regression model"
   ]
  },
  {
   "cell_type": "code",
   "execution_count": null,
   "metadata": {},
   "outputs": [],
   "source": [
    "\n",
    "model = smf.ols(\"walking_speed_4m ~ C(ppi_status)\", data=df).fit()\n",
    "\n",
    "print(model.summary())\n"
   ]
  },
  {
   "cell_type": "markdown",
   "metadata": {},
   "source": [
    "## 4-minute walking test, multiple linear regression model"
   ]
  },
  {
   "cell_type": "code",
   "execution_count": null,
   "metadata": {},
   "outputs": [],
   "source": [
    "model = smf.ols(\"walking_speed_4m ~ C(ppi_status) + C(sex) + age + bmi\", data=df).fit()\n",
    "\n",
    "print(model.summary())\n"
   ]
  },
  {
   "cell_type": "markdown",
   "metadata": {},
   "source": [
    "## Armchair push-pull test, simple regression model"
   ]
  },
  {
   "cell_type": "code",
   "execution_count": null,
   "metadata": {},
   "outputs": [],
   "source": [
    "# Logistic regression model\n",
    "\n",
    "# First, create binary variables (0/1) for our categorical variables\n",
    "df['armchair_success_binary'] = (df['armchair_push_pull_success'] == 'Success').astype(int)\n",
    "\n",
    "# Veriry the structure of the data if needed\n",
    "# df[['armchair_success_binary', 'armchair_push_pull_success']].head()\n",
    "\n",
    "# Fit the logistic regression model\n",
    "model = smf.logit(\"armchair_success_binary ~ C(ppi_status)\", data=df).fit()\n",
    "\n",
    "# Print summary\n",
    "print(model.summary())\n",
    "\n",
    "# Calculate odds ratio and confidence intervals\n",
    "odds_ratio = np.exp(model.params[1])\n",
    "conf_int = np.exp(model.conf_int().iloc[1])\n",
    "\n",
    "print(\"\\nOdds Ratio Analysis:\")\n",
    "print(f\"Odds Ratio: {odds_ratio:.2f}\")\n",
    "print(f\"95% CI: ({conf_int[0]:.2f}, {conf_int[1]:.2f})\")\n",
    "\n"
   ]
  },
  {
   "cell_type": "markdown",
   "metadata": {},
   "source": [
    "## Armchair push-pull test, multiple regression model"
   ]
  },
  {
   "cell_type": "code",
   "execution_count": null,
   "metadata": {},
   "outputs": [],
   "source": [
    "# Logistic regression model\n",
    "\n",
    "# First, create binary variables (0/1) for our categorical variables\n",
    "df['armchair_success_binary'] = (df['armchair_push_pull_success'] == 'Success').astype(int)\n",
    "\n",
    "# Veriry the structure of the data if needed\n",
    "# df[['armchair_success_binary', 'armchair_push_pull_success', 'ppi_status', 'ppi_user_binary']].head()\n",
    "\n",
    "# Fit the logistic regression model\n",
    "model = smf.logit(\"armchair_success_binary ~ C(ppi_status) + C(sex) + age + bmi\", data=df).fit()\n",
    "\n",
    "# Print summary\n",
    "print(model.summary())\n",
    "\n",
    "# Calculate odds ratio and confidence intervals\n",
    "odds_ratio = np.exp(model.params[1])\n",
    "conf_int = np.exp(model.conf_int().iloc[1])\n",
    "\n",
    "print(\"\\nOdds Ratio Analysis:\")\n",
    "print(f\"Odds Ratio: {odds_ratio:.2f}\")\n",
    "print(f\"95% CI: ({conf_int[0]:.2f}, {conf_int[1]:.2f})\")\n",
    "\n"
   ]
  }
 ],
 "metadata": {
  "kernelspec": {
   "display_name": "venv",
   "language": "python",
   "name": "python3"
  },
  "language_info": {
   "codemirror_mode": {
    "name": "ipython",
    "version": 3
   },
   "file_extension": ".py",
   "mimetype": "text/x-python",
   "name": "python",
   "nbconvert_exporter": "python",
   "pygments_lexer": "ipython3",
   "version": "3.9.6"
  }
 },
 "nbformat": 4,
 "nbformat_minor": 2
}
